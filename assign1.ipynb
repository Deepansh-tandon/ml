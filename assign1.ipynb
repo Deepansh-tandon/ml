{
 "cells": [
  {
   "cell_type": "code",
   "execution_count": 5,
   "id": "01557948",
   "metadata": {},
   "outputs": [],
   "source": [
    "import numpy as np"
   ]
  },
  {
   "cell_type": "code",
   "execution_count": 7,
   "id": "8f5a80f9",
   "metadata": {},
   "outputs": [
    {
     "data": {
      "text/plain": [
       "array([1, 2, 3, 4, 5])"
      ]
     },
     "execution_count": 7,
     "metadata": {},
     "output_type": "execute_result"
    }
   ],
   "source": [
    "arr=np.array([1,2,3,4,5])\n",
    "arr"
   ]
  },
  {
   "cell_type": "code",
   "execution_count": 9,
   "id": "dde4170d",
   "metadata": {},
   "outputs": [
    {
     "data": {
      "text/plain": [
       "array([5, 4, 3, 2, 1])"
      ]
     },
     "execution_count": 9,
     "metadata": {},
     "output_type": "execute_result"
    }
   ],
   "source": [
    "np.flip(arr)"
   ]
  },
  {
   "cell_type": "code",
   "execution_count": 11,
   "id": "3cf71265",
   "metadata": {},
   "outputs": [
    {
     "data": {
      "text/plain": [
       "array([[1, 2, 3],\n",
       "       [4, 5, 6],\n",
       "       [7, 8, 9]])"
      ]
     },
     "execution_count": 11,
     "metadata": {},
     "output_type": "execute_result"
    }
   ],
   "source": [
    "arr=np.array([[1,2,3],[4,5,6],[7,8,9]])\n",
    "arr"
   ]
  },
  {
   "cell_type": "code",
   "execution_count": 14,
   "id": "28e13a48",
   "metadata": {},
   "outputs": [
    {
     "data": {
      "text/plain": [
       "array([1, 2, 3, 4, 5, 6, 7, 8, 9])"
      ]
     },
     "execution_count": 14,
     "metadata": {},
     "output_type": "execute_result"
    }
   ],
   "source": [
    "arr.flatten()"
   ]
  },
  {
   "cell_type": "code",
   "execution_count": 20,
   "id": "f990ad12",
   "metadata": {},
   "outputs": [
    {
     "data": {
      "text/plain": [
       "array([[ True, False],\n",
       "       [ True,  True]])"
      ]
     },
     "execution_count": 20,
     "metadata": {},
     "output_type": "execute_result"
    }
   ],
   "source": [
    "a1=np.array([[1,2],[3,4]])\n",
    "a2=np.array([[1,3],[3,4]])\n",
    "a1==a2"
   ]
  },
  {
   "cell_type": "code",
   "execution_count": 21,
   "id": "556f0207",
   "metadata": {},
   "outputs": [
    {
     "data": {
      "text/plain": [
       "False"
      ]
     },
     "execution_count": 21,
     "metadata": {},
     "output_type": "execute_result"
    }
   ],
   "source": [
    "np.array_equal(a1,a2)"
   ]
  },
  {
   "cell_type": "code",
   "execution_count": 27,
   "id": "f7107b63",
   "metadata": {},
   "outputs": [
    {
     "name": "stdout",
     "output_type": "stream",
     "text": [
      "5\n"
     ]
    },
    {
     "data": {
      "text/plain": [
       "array([ 4, 10, 11, 12, 13, 14, 15, 16], dtype=int64)"
      ]
     },
     "execution_count": 27,
     "metadata": {},
     "output_type": "execute_result"
    }
   ],
   "source": [
    "x=np.array([1,2,3,4,5,1,2,1,1,1,5,5,5,5,5,5,5])\n",
    "count=np.bincount(x)\n",
    "print(np.argmax(count))\n",
    "y=np.argmax(count)\n",
    "ind=np.where(x==y)[0]\n",
    "ind"
   ]
  },
  {
   "cell_type": "code",
   "execution_count": 29,
   "id": "ad5e84a9",
   "metadata": {},
   "outputs": [
    {
     "name": "stdout",
     "output_type": "stream",
     "text": [
      "5\n"
     ]
    }
   ],
   "source": [
    "values, counts = np.unique(x, return_counts=True)\n",
    "\n",
    "ind = np.argmax(counts)\n",
    "print(values[ind]) "
   ]
  },
  {
   "cell_type": "code",
   "execution_count": 31,
   "id": "40bbae05",
   "metadata": {},
   "outputs": [
    {
     "data": {
      "text/plain": [
       "array([[55, 25, 15],\n",
       "       [30, 44,  2],\n",
       "       [11, 45, 77]])"
      ]
     },
     "execution_count": 31,
     "metadata": {},
     "output_type": "execute_result"
    }
   ],
   "source": [
    "arr=np.array([[55,25,15],[30,44,2],[11,45,77]])\n",
    "arr"
   ]
  },
  {
   "cell_type": "code",
   "execution_count": 35,
   "id": "a6f50379",
   "metadata": {},
   "outputs": [
    {
     "name": "stdout",
     "output_type": "stream",
     "text": [
      "176\n"
     ]
    }
   ],
   "source": [
    "d=np.diagonal(arr)\n",
    "print(sum(d))"
   ]
  },
  {
   "cell_type": "code",
   "execution_count": 37,
   "id": "63a2412b",
   "metadata": {},
   "outputs": [
    {
     "name": "stdout",
     "output_type": "stream",
     "text": [
      "176\n"
     ]
    }
   ],
   "source": [
    "print(np.trace(arr))"
   ]
  },
  {
   "cell_type": "code",
   "execution_count": 39,
   "id": "0a23010c",
   "metadata": {},
   "outputs": [
    {
     "name": "stdout",
     "output_type": "stream",
     "text": [
      "[98.16835147 28.097044   49.73460452]\n",
      "[[ 0.4574917   0.34637121 -0.15017693]\n",
      " [ 0.28447814 -0.72784061 -0.4852124 ]\n",
      " [ 0.84248058  0.59184038  0.8614034 ]]\n"
     ]
    }
   ],
   "source": [
    "eigval,eigvec=np.linalg.eig(arr)\n",
    "print(eigval)\n",
    "print(eigvec)"
   ]
  },
  {
   "cell_type": "code",
   "execution_count": 42,
   "id": "a6f775b6",
   "metadata": {},
   "outputs": [
    {
     "name": "stdout",
     "output_type": "stream",
     "text": [
      "[[ 0.02404141 -0.00911212 -0.00444671]\n",
      " [-0.01667882  0.02966905  0.0024785 ]\n",
      " [ 0.00631287 -0.01603732  0.01217379]]\n",
      "137180.0000000001\n"
     ]
    }
   ],
   "source": [
    "print(np.linalg.inv(arr))\n",
    "print(np.linalg.det(arr))"
   ]
  },
  {
   "cell_type": "code",
   "execution_count": 51,
   "id": "c37c444b",
   "metadata": {},
   "outputs": [
    {
     "data": {
      "text/plain": [
       "array([[ 4, 10],\n",
       "       [18, 28]])"
      ]
     },
     "execution_count": 51,
     "metadata": {},
     "output_type": "execute_result"
    }
   ],
   "source": [
    "p=np.array([[1,2],[3,4]])\n",
    "q=np.array([[4,5],[6,7]])\n",
    "p*q #element wise hota h\n",
    "np.multiply(p,q) #yaha bhi"
   ]
  },
  {
   "cell_type": "code",
   "execution_count": 52,
   "id": "bcfe3549",
   "metadata": {},
   "outputs": [
    {
     "name": "stdout",
     "output_type": "stream",
     "text": [
      "[[16 19]\n",
      " [36 43]]\n"
     ]
    }
   ],
   "source": [
    "print(np.matmul(p,q))"
   ]
  },
  {
   "cell_type": "code",
   "execution_count": 57,
   "id": "460c0168",
   "metadata": {},
   "outputs": [
    {
     "data": {
      "text/plain": [
       "array([[16, 19,  5],\n",
       "       [26, 31,  8],\n",
       "       [46, 55, 14]])"
      ]
     },
     "execution_count": 57,
     "metadata": {},
     "output_type": "execute_result"
    }
   ],
   "source": [
    "x=np.array([[1,2],[2,3],[4,5]])\n",
    "y=np.array([[4,5,1],[6,7,2]])\n",
    "np.matmul(x,y) #only matmul works here"
   ]
  },
  {
   "cell_type": "code",
   "execution_count": 60,
   "id": "8b71686b",
   "metadata": {},
   "outputs": [
    {
     "name": "stdout",
     "output_type": "stream",
     "text": [
      "[[0.5 0.5 0.5 0.5]\n",
      " [0.5 0.5 0.5 0.5]\n",
      " [0.5 0.5 0.5 0.5]\n",
      " [0.5 0.5 0.5 0.5]]\n"
     ]
    }
   ],
   "source": [
    "#error in x,y\n",
    "print(np.cov(p,q))"
   ]
  },
  {
   "cell_type": "code",
   "execution_count": 64,
   "id": "621042a8",
   "metadata": {},
   "outputs": [
    {
     "name": "stdout",
     "output_type": "stream",
     "text": [
      "[[17 52]\n",
      " [13 62]]\n",
      "[[ 2 10  0 10 20  6]\n",
      " [ 3 15  0 15 30  9]\n",
      " [ 4 20  0 20 40 12]\n",
      " [ 3 15  0 15 30  9]\n",
      " [ 2 10  0 10 20  6]\n",
      " [ 9 45  0 45 90 27]]\n",
      "[[-20   4   7]\n",
      " [-84  36  20]]\n",
      "[array([[2, 3, 4, 3, 2, 9],\n",
      "       [2, 3, 4, 3, 2, 9],\n",
      "       [2, 3, 4, 3, 2, 9],\n",
      "       [2, 3, 4, 3, 2, 9],\n",
      "       [2, 3, 4, 3, 2, 9],\n",
      "       [2, 3, 4, 3, 2, 9]]), array([[ 1,  1,  1,  1,  1,  1],\n",
      "       [ 5,  5,  5,  5,  5,  5],\n",
      "       [ 0,  0,  0,  0,  0,  0],\n",
      "       [ 5,  5,  5,  5,  5,  5],\n",
      "       [10, 10, 10, 10, 10, 10],\n",
      "       [ 3,  3,  3,  3,  3,  3]])]\n"
     ]
    }
   ],
   "source": [
    "x=np.array([[2,3,4],[3,2,9]])\n",
    "y=np.array([[1,5,0],[5,10,3]])\n",
    "print(np.inner(x,y))\n",
    "print(np.outer(x,y))\n",
    "print(np.cross(x,y))\n",
    "print(np.meshgrid(x,y)) #cartesian"
   ]
  },
  {
   "cell_type": "code",
   "execution_count": 72,
   "id": "e51fc777",
   "metadata": {},
   "outputs": [
    {
     "name": "stdout",
     "output_type": "stream",
     "text": [
      "[[1 4 2]\n",
      " [7 8 9]]\n",
      "[-3.25  0.5   4.5 ]\n",
      "[[ 1.   -7.    3.75]\n",
      " [ 3.   -6.    5.5 ]\n",
      " [ 4.6  -5.2   6.9 ]]\n",
      "[[-2.5 -0.5]\n",
      " [-1.   7. ]\n",
      " [ 0.2  7.8]]\n"
     ]
    }
   ],
   "source": [
    "b=np.array([[-1,-4,2],[7,-8,9]])\n",
    "print(np.abs(b))\n",
    "x=b.flatten()\n",
    "x\n",
    "perc_f=np.percentile(x,[25,50,70])\n",
    "print(perc_f)\n",
    "perR=np.percentile(b,[25,50,70],axis=0) #column wise\n",
    "print(perR)\n",
    "perC=np.percentile(b,[25,50,70],axis=1)# row wise\n",
    "print(perC)"
   ]
  },
  {
   "cell_type": "code",
   "execution_count": 75,
   "id": "c06d6e54",
   "metadata": {},
   "outputs": [
    {
     "name": "stdout",
     "output_type": "stream",
     "text": [
      "0.8333333333333334\n",
      "[ 3.  -6.   5.5]\n",
      "[-1.          2.66666667]\n",
      "0.5\n",
      "[ 3.  -6.   5.5]\n",
      "[-1.  7.]\n",
      "5.927806414592913\n",
      "[4.  2.  3.5]\n",
      "[2.44948974 7.58653778]\n"
     ]
    }
   ],
   "source": [
    "print(np.mean(x))\n",
    "print(np.mean(b,axis=0))\n",
    "print(np.mean(b,axis=1))\n",
    "print(np.median(x))\n",
    "print(np.median(b,axis=0))\n",
    "print(np.median(b,axis=1))\n",
    "print(np.std(x))\n",
    "print(np.std(b,axis=0))\n",
    "print(np.std(b,axis=1))"
   ]
  },
  {
   "cell_type": "code",
   "execution_count": 76,
   "id": "7ae8df47",
   "metadata": {},
   "outputs": [],
   "source": [
    "a=np.array([-1.8,-1.6,-0.5,0.5,1.6,-1.2,3.0,2.1])"
   ]
  },
  {
   "cell_type": "code",
   "execution_count": 77,
   "id": "cd4b6aca",
   "metadata": {},
   "outputs": [
    {
     "name": "stdout",
     "output_type": "stream",
     "text": [
      "[-2. -2. -1.  0.  1. -2.  3.  2.]\n",
      "[-1. -1. -0.  1.  2. -1.  3.  3.]\n",
      "[-1. -1. -0.  0.  1. -1.  3.  2.]\n",
      "[-2. -2. -0.  0.  2. -1.  3.  2.]\n"
     ]
    }
   ],
   "source": [
    "print(np.floor(a))\n",
    "print(np.ceil(a))\n",
    "print(np.trunc(a))\n",
    "print(np.around(a,decimals=0))"
   ]
  },
  {
   "cell_type": "code",
   "execution_count": 2,
   "id": "2c216127",
   "metadata": {},
   "outputs": [
    {
     "name": "stdout",
     "output_type": "stream",
     "text": [
      "[ 10  16  16  52  54  62 445]\n",
      "[0 3 4 1 5 2 6]\n",
      "[10 16 16 52]\n",
      "[ 16  52  54  62 445]\n"
     ]
    }
   ],
   "source": [
    "import numpy as np\n",
    "x=np.array([10,52,62,16,16,54,445])\n",
    "y=np.sort(x)\n",
    "print(y)\n",
    "print(np.argsort(x))\n",
    "print(y[:4])\n",
    "print(y[-5:])"
   ]
  },
  {
   "cell_type": "code",
   "execution_count": 12,
   "id": "5356a75e",
   "metadata": {},
   "outputs": [
    {
     "data": {
      "text/plain": [
       "array([1.2, 2.2])"
      ]
     },
     "execution_count": 12,
     "metadata": {},
     "output_type": "execute_result"
    }
   ],
   "source": [
    "av=np.array([1,0,1.2,2.2,2.0,3.0,2.0])\n",
    "\n",
    "an=av[av==av.astype(int)]\n",
    "an\n",
    "ax=av[av!=av.astype(int)]\n",
    "ax"
   ]
  },
  {
   "cell_type": "code",
   "execution_count": 15,
   "id": "6dae7c3b",
   "metadata": {},
   "outputs": [],
   "source": [
    "import cv2\n",
    "def img_to_array(path):\n",
    "    img=cv2.imread(path,cv2.IMREAD_UNCHANGED)\n",
    "    \n",
    "    if img is None:\n",
    "        print(\"error image not found\")\n",
    "        return\n",
    "    if len(img.shape)==2:\n",
    "        np.savetxt(\"grayscale image.txt\",img,fmt='%d')\n",
    "        print('grayscale image saved')\n",
    "    elif len(img.shape)==3:\n",
    "        np.savetxt('rgbimage.txt',img,fmt='%d')\n",
    "        np.save('xyz.npy',img)\n",
    "        print('rgb image saved')\n",
    "    else:\n",
    "        print('format not supported')"
   ]
  }
 ],
 "metadata": {
  "kernelspec": {
   "display_name": "Python 3 (ipykernel)",
   "language": "python",
   "name": "python3"
  },
  "language_info": {
   "codemirror_mode": {
    "name": "ipython",
    "version": 3
   },
   "file_extension": ".py",
   "mimetype": "text/x-python",
   "name": "python",
   "nbconvert_exporter": "python",
   "pygments_lexer": "ipython3",
   "version": "3.9.12"
  }
 },
 "nbformat": 4,
 "nbformat_minor": 5
}
